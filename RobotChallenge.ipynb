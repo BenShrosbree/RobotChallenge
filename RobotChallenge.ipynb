{
 "cells": [
  {
   "cell_type": "markdown",
   "id": "8eb22b50-b392-4485-9c79-20bc8c6afffc",
   "metadata": {},
   "source": [
    "# Robot Challenge"
   ]
  },
  {
   "cell_type": "code",
   "execution_count": 168,
   "id": "0181a531-5a92-4552-89e4-33ce518c4db1",
   "metadata": {},
   "outputs": [],
   "source": [
    "#Robot Challenge Setup\n",
    "def robotsetup():\n",
    "\n",
    "    def place(xpos,ypos,facing,x,y,f,robotnum):\n",
    "\n",
    "        #Placing the robot and setting a direction\n",
    "        xpos.append(int(x))\n",
    "        ypos.append(int(y))\n",
    "        facing.append(f)\n",
    "        robotnum=robotnum+1\n",
    "\n",
    "        return xpos, ypos, facing,robotnum\n",
    "\n",
    "    def report(x,y,f,r,robotnum):\n",
    "        #Reporting the position and direction of the robot\n",
    "        print(f'Robot {r} Active, {x},{y},{f.upper()}, {robotnum} Robots on Table ')\n",
    "\n",
    "    def left(f):\n",
    "        compass=['north', 'east', 'south', 'west']\n",
    "        #Turn the robot to the left\n",
    "        for i in range(0,len(compass)):\n",
    "            if f==compass[i]:\n",
    "                j=i\n",
    "        if j == 0:\n",
    "            j=4\n",
    "        f=compass[j-1]\n",
    "\n",
    "        return f\n",
    "\n",
    "    def right(f):\n",
    "        compass=['north', 'east', 'south', 'west']\n",
    "        #Turn the robot to the right\n",
    "        for i in range(0,len(compass)):\n",
    "            if f==compass[i]:\n",
    "                j=i\n",
    "        if j == 3:\n",
    "            j=-1\n",
    "        f=compass[j+1]\n",
    "\n",
    "        return f\n",
    "\n",
    "    def move(x,y,f):\n",
    "        #Table ranges from 0 to 4\n",
    "        #-1 and 5+ are off the table\n",
    "\n",
    "        if f=='north':\n",
    "            if y<4:\n",
    "                y=y+1\n",
    "            else:\n",
    "                print('Robot would fall off the table')\n",
    "        if f=='south':\n",
    "            if y>0:\n",
    "                y=y-1\n",
    "            else:\n",
    "                print('Robot would fall off the table')\n",
    "        if f=='east':\n",
    "            if x<4:\n",
    "                x=x+1\n",
    "            else:\n",
    "                print('Robot would fall off the table')\n",
    "        if f=='west':\n",
    "            if x>0:\n",
    "                x=x-1\n",
    "            else:\n",
    "                print('Robot would fall off the table')\n",
    "        return x,y\n",
    "\n",
    "    def robot(r):\n",
    "        activerobot=r\n",
    "\n",
    "        return activerobot\n"
   ]
  },
  {
   "cell_type": "code",
   "execution_count": 169,
   "id": "54926b34-04ec-464a-9e93-f6e5e01431d5",
   "metadata": {
    "tags": []
   },
   "outputs": [],
   "source": [
    "#Robot Challenge\n",
    "#number of robots placed        \n",
    "def robotchallenge():\n",
    "    \n",
    "    robotnum=0\n",
    "    r=1\n",
    "    xpos=[0]\n",
    "    ypos=[0]\n",
    "    facing=['']\n",
    "    \n",
    "    robotsetup()\n",
    "    while True:\n",
    "        if robotnum==0:\n",
    "            print('Place your robot, use \"Place X Y Direction\"')\n",
    "            command_input, xnew,ynew,fnew=(input('').lower()).split()\n",
    "            xpos, ypos, facing, robotnum=place(xpos,ypos,facing,int(xnew),int(ynew),fnew,robotnum)\n",
    "            r=1\n",
    "\n",
    "        #print('Place, Move, Left, Right, Report')\n",
    "        input_raw=(input('').lower())\n",
    "        command_input= input_raw.split(maxsplit=1)\n",
    "\n",
    "\n",
    "        if command_input[0]=='exit':\n",
    "            break\n",
    "\n",
    "        if command_input[0]=='move':\n",
    "            xpos[r],ypos[r]=move(xpos[r],ypos[r],facing[r])\n",
    "\n",
    "        if command_input[0]=='left':\n",
    "            facing[r]=left(facing[r])\n",
    "\n",
    "        if command_input[0]=='right':\n",
    "            facing[r]=right(facing[r])\n",
    "\n",
    "        if command_input[0]=='report':\n",
    "            report(xpos[r],ypos[r],facing[r],r,robotnum)\n",
    "\n",
    "        if command_input[0]=='place':\n",
    "            command_place, xnew,ynew,fnew=input_raw.split()\n",
    "            xpos, ypos, facing, robotnum = place(xpos,ypos,facing, int(xnew),int(ynew),fnew,robotnum)\n",
    "\n",
    "        if command_input[0]=='robot':\n",
    "            command_robot, rnew =input_raw.split()\n",
    "            r=robot(int(rnew))\n",
    "\n"
   ]
  },
  {
   "cell_type": "code",
   "execution_count": 175,
   "id": "f60b8cca-75cb-4dc9-b3db-fa0631897bf8",
   "metadata": {},
   "outputs": [
    {
     "name": "stdout",
     "output_type": "stream",
     "text": [
      "Place your robot, use \"Place X Y Direction\"\n"
     ]
    },
    {
     "name": "stdin",
     "output_type": "stream",
     "text": [
      " place 0 0 north\n",
      " move\n",
      " right\n",
      " move\n",
      " move\n",
      " report\n"
     ]
    },
    {
     "name": "stdout",
     "output_type": "stream",
     "text": [
      "Robot 1 Active, 2,1,EAST, 1 Robots on Table \n"
     ]
    },
    {
     "name": "stdin",
     "output_type": "stream",
     "text": [
      " left\n",
      " report\n"
     ]
    },
    {
     "name": "stdout",
     "output_type": "stream",
     "text": [
      "Robot 1 Active, 2,1,NORTH, 1 Robots on Table \n"
     ]
    },
    {
     "name": "stdin",
     "output_type": "stream",
     "text": [
      " exit\n"
     ]
    }
   ],
   "source": [
    "robotchallenge()"
   ]
  },
  {
   "cell_type": "code",
   "execution_count": 172,
   "id": "e9ed0336-a068-4684-857a-fa9425fdf8b3",
   "metadata": {},
   "outputs": [
    {
     "name": "stdout",
     "output_type": "stream",
     "text": [
      "Place your robot, use \"Place X Y Direction\"\n"
     ]
    },
    {
     "name": "stdin",
     "output_type": "stream",
     "text": [
      " place 0 0 north\n",
      " place 0 1 east\n",
      " place 4 4 west\n",
      " report\n"
     ]
    },
    {
     "name": "stdout",
     "output_type": "stream",
     "text": [
      "Robot 1 Active, 0,0,NORTH, 3 Robots on Table \n"
     ]
    },
    {
     "name": "stdin",
     "output_type": "stream",
     "text": [
      " move\n",
      " report\n"
     ]
    },
    {
     "name": "stdout",
     "output_type": "stream",
     "text": [
      "Robot 1 Active, 0,1,NORTH, 3 Robots on Table \n"
     ]
    },
    {
     "name": "stdin",
     "output_type": "stream",
     "text": [
      " exit\n"
     ]
    }
   ],
   "source": [
    "robotchallenge()"
   ]
  },
  {
   "cell_type": "code",
   "execution_count": 176,
   "id": "51911fc0-8daa-4dc6-8d5c-413292338fae",
   "metadata": {},
   "outputs": [
    {
     "name": "stdout",
     "output_type": "stream",
     "text": [
      "Place your robot, use \"Place X Y Direction\"\n"
     ]
    },
    {
     "name": "stdin",
     "output_type": "stream",
     "text": [
      " place 0 0 north\n",
      " place 3 3 west\n",
      " move\n",
      " report\n"
     ]
    },
    {
     "name": "stdout",
     "output_type": "stream",
     "text": [
      "Robot 1 Active, 0,1,NORTH, 2 Robots on Table \n"
     ]
    },
    {
     "name": "stdin",
     "output_type": "stream",
     "text": [
      " robot 2\n",
      " report\n"
     ]
    },
    {
     "name": "stdout",
     "output_type": "stream",
     "text": [
      "Robot 2 Active, 3,3,WEST, 2 Robots on Table \n"
     ]
    },
    {
     "name": "stdin",
     "output_type": "stream",
     "text": [
      " left\n",
      " report\n"
     ]
    },
    {
     "name": "stdout",
     "output_type": "stream",
     "text": [
      "Robot 2 Active, 3,3,SOUTH, 2 Robots on Table \n"
     ]
    },
    {
     "name": "stdin",
     "output_type": "stream",
     "text": [
      " exit\n"
     ]
    }
   ],
   "source": [
    "robotchallenge()"
   ]
  },
  {
   "cell_type": "code",
   "execution_count": null,
   "id": "a7802fa7-3336-4fdc-949e-34c6be300745",
   "metadata": {},
   "outputs": [],
   "source": []
  }
 ],
 "metadata": {
  "kernelspec": {
   "display_name": "Python 3",
   "language": "python",
   "name": "python3"
  },
  "language_info": {
   "codemirror_mode": {
    "name": "ipython",
    "version": 3
   },
   "file_extension": ".py",
   "mimetype": "text/x-python",
   "name": "python",
   "nbconvert_exporter": "python",
   "pygments_lexer": "ipython3",
   "version": "3.8.8"
  }
 },
 "nbformat": 4,
 "nbformat_minor": 5
}
